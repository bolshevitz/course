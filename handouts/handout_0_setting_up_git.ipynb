{
 "cells": [
  {
   "cell_type": "markdown",
   "metadata": {},
   "source": [
    "## Git Setup\n",
    "\n",
    "1. By now you should have set up git via the link https://help.github.com/articles/set-up-git/\n",
    "2. Now we want to give you a copy of the polyglot 'repository'. \n",
    "    1. Go to the course repo https://github.com/polyglot-coding/course \n",
    "    2. Fork ![./images/fork_img.png](./images/fork_img.png)\n",
    "    3. You should have been redirected to your fork. Notice that we are now in your account, rather than polyglot's. ![./images/own_repo.png](./images/own_repo.png)\n",
    "    4. Clone your own fork. Copy this code ![./images/clone_fork.png](./images/clone_fork.png)\n",
    "    5. To the terminal.\n",
    "        1. `mkdir Development` (make a new directory/folder called Development)\n",
    "        2. `cd Development` (change directory to the directory Development)\n",
    "        3. `mkdir polyglot` (make a new directory called polyglot)\n",
    "        4. `cd polyglot` (go into directory polyglot)\n",
    "        5. paste clone code. Should look like `git clone git@github.com:<YOURGITUSERNAME>/course.git`\n",
    "        6. `ls`. See the contents of the directory/folder. Make sure that it contains all the files! You should see handouts and lectures.\n",
    "        7. `git remote -v`. Get which repo it references. Make sure it's your own!\n",
    "        <img src=\"./images/summary_clone.png\" width=\"400\">\n",
    "        "
   ]
  }
 ],
 "metadata": {
  "kernelspec": {
   "display_name": "Python 3",
   "language": "python",
   "name": "python3"
  },
  "language_info": {
   "codemirror_mode": {
    "name": "ipython",
    "version": 3
   },
   "file_extension": ".py",
   "mimetype": "text/x-python",
   "name": "python",
   "nbconvert_exporter": "python",
   "pygments_lexer": "ipython3",
   "version": "3.6.0"
  }
 },
 "nbformat": 4,
 "nbformat_minor": 2
}
